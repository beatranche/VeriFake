{
 "cells": [
  {
   "cell_type": "code",
   "execution_count": 1,
   "id": "4f4616ee",
   "metadata": {},
   "outputs": [],
   "source": [
    "import urllib\n",
    "from bs4 import BeautifulSoup\n",
    "import requests\n",
    "import numpy\n",
    "import os\n",
    "import re\n",
    "import json\n",
    "import unicodedata\n",
    "import datetime"
   ]
  },
  {
   "cell_type": "code",
   "execution_count": 2,
   "id": "2afef928",
   "metadata": {},
   "outputs": [],
   "source": [
    "url_general = 'https://www.factcheck.org/the-factcheck-wire/'\n",
    "html_general = requests.get(url_general).text\n",
    "soup_general = BeautifulSoup(html_general, 'html.parser')"
   ]
  },
  {
   "cell_type": "code",
   "execution_count": 3,
   "id": "a1b14e7d",
   "metadata": {},
   "outputs": [
    {
     "name": "stdout",
     "output_type": "stream",
     "text": [
      "328\n"
     ]
    }
   ],
   "source": [
    "num_pags = int(soup_general.find_all('span', attrs={'class' : 'sr-only'})[1].text)\n",
    "\n",
    "print(num_pags)"
   ]
  },
  {
   "cell_type": "code",
   "execution_count": 4,
   "id": "5a979da2",
   "metadata": {},
   "outputs": [],
   "source": [
    "def replace_characters(text):\n",
    "    text_aux = ''.join(c for c in unicodedata.normalize('NFD', text.strip())\n",
    "                  if unicodedata.category(c) != 'Mn')\n",
    "    return re.sub(r'[^\\w\\s]', '', text_aux.lower().replace(u'\\xa0', u' ').replace(u'\\n', u' ')).split(\" \")"
   ]
  },
  {
   "cell_type": "code",
   "execution_count": 5,
   "id": "19266e77",
   "metadata": {},
   "outputs": [],
   "source": [
    "def replace_characters_title(text):\n",
    "    return ''.join(c for c in unicodedata.normalize('NFD', text.strip())\n",
    "                  if unicodedata.category(c) != 'Mn')"
   ]
  },
  {
   "cell_type": "code",
   "execution_count": 6,
   "id": "86ad1772",
   "metadata": {},
   "outputs": [],
   "source": [
    "bulos = {}\n",
    "\n",
    "cont = 0\n",
    "for i in range(1, num_pags+1):\n",
    "    url = 'https://www.factcheck.org/the-factcheck-wire/page/' + str(i)\n",
    "    html = requests.get(url).text\n",
    "    soup = BeautifulSoup(html, 'html.parser')\n",
    "    for h3 in soup.find_all('h3',attrs={'class' : 'entry-title'}): \n",
    "        a = h3('a')[0]\n",
    "        title = a.text\n",
    "        link = a.get('href', None)\n",
    "        words = dict()\n",
    "        \n",
    "        html_new = requests.get(link, allow_redirects=False).text\n",
    "        \n",
    "        \n",
    "        \n",
    "        soup_new = BeautifulSoup(html_new, 'html.parser')\n",
    "        title_list = re.sub(r'[^\\w\\s]', '', title.lower()).split(\" \")\n",
    "        \n",
    "        for w in title_list:\n",
    "            if w in words:\n",
    "                words[w] += 1\n",
    "            else:\n",
    "                words[w] = 1\n",
    "                \n",
    "        new_text = soup_new.find('div',attrs={'class' : \"entry-content\"})\n",
    "        \n",
    "        # Obtener la fecha\n",
    "        \n",
    "        date = soup_new.find(class_=\"entry-date published updated\")\n",
    "        for d in date:\n",
    "            new_date = datetime.datetime.strptime(str(d), \"%B %d, %Y\")\n",
    "        \n",
    "        formated_date = new_date.strftime('%Y/%m/%d')\n",
    "        \n",
    "        for text in new_text('p'):\n",
    "            for w in replace_characters(text.get_text()):\n",
    "                if w in words:\n",
    "                    words[w] += 1\n",
    "                else:\n",
    "                    words[w] = 1\n",
    "        \n",
    "        bulos[cont] = {\"titulo\" : replace_characters_title(title), \"link\" : link, \"date\" : formated_date, \"words_count\" : words}\n",
    "        cont += 1"
   ]
  },
  {
   "cell_type": "code",
   "execution_count": 10,
   "id": "72d95f42",
   "metadata": {},
   "outputs": [],
   "source": [
    "#bulos"
   ]
  },
  {
   "cell_type": "code",
   "execution_count": 8,
   "id": "79516895",
   "metadata": {},
   "outputs": [
    {
     "data": {
      "text/plain": [
       "3274"
      ]
     },
     "execution_count": 8,
     "metadata": {},
     "output_type": "execute_result"
    }
   ],
   "source": [
    "len(bulos)"
   ]
  },
  {
   "cell_type": "code",
   "execution_count": 9,
   "id": "803dfbc9",
   "metadata": {},
   "outputs": [],
   "source": [
    "with open('fakenewsFactCheck.json', 'w') as fp:\n",
    "    json.dump(bulos, fp)"
   ]
  },
  {
   "cell_type": "code",
   "execution_count": null,
   "id": "f9427182",
   "metadata": {},
   "outputs": [],
   "source": []
  }
 ],
 "metadata": {
  "kernelspec": {
   "display_name": "Python 3",
   "language": "python",
   "name": "python3"
  },
  "language_info": {
   "codemirror_mode": {
    "name": "ipython",
    "version": 3
   },
   "file_extension": ".py",
   "mimetype": "text/x-python",
   "name": "python",
   "nbconvert_exporter": "python",
   "pygments_lexer": "ipython3",
   "version": "3.8.8"
  }
 },
 "nbformat": 4,
 "nbformat_minor": 5
}
