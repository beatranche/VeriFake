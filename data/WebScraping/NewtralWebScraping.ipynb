{
 "cells": [
  {
   "cell_type": "code",
   "execution_count": 1,
   "metadata": {},
   "outputs": [],
   "source": [
    "# Si se quiere ejecutar el código hay que instalar selenium y tener chromedriver en el path\n",
    "# pip install selenium"
   ]
  },
  {
   "cell_type": "code",
   "execution_count": 1,
   "metadata": {
    "scrolled": false
   },
   "outputs": [],
   "source": [
    "# pip install selenium"
   ]
  },
  {
   "cell_type": "code",
   "execution_count": 5,
   "metadata": {},
   "outputs": [],
   "source": [
    "from selenium import webdriver\n",
    "from selenium.webdriver.common.by import By\n",
    "from selenium.webdriver.support.ui import WebDriverWait\n",
    "from selenium.webdriver.support import expected_conditions\n",
    "import time\n",
    "import math\n",
    "import json"
   ]
  },
  {
   "cell_type": "code",
   "execution_count": 6,
   "metadata": {},
   "outputs": [],
   "source": [
    "driver = webdriver.Chrome()\n",
    "driver.get('https://www.newtral.es/fakes/')"
   ]
  },
  {
   "cell_type": "code",
   "execution_count": 7,
   "metadata": {},
   "outputs": [],
   "source": [
    "button = driver.find_element(By.ID, 'onetrust-reject-all-handler')\n",
    "button.click()"
   ]
  },
  {
   "cell_type": "code",
   "execution_count": 9,
   "metadata": {},
   "outputs": [
    {
     "data": {
      "text/plain": [
       "(1641, 109)"
      ]
     },
     "execution_count": 9,
     "metadata": {},
     "output_type": "execute_result"
    }
   ],
   "source": [
    "num_bulos = int(driver.find_element(By.CLASS_NAME, 'results-count').text[1:-1])\n",
    "num_clicks = math.floor(num_bulos / 15)\n",
    "(num_bulos, num_clicks)"
   ]
  },
  {
   "cell_type": "code",
   "execution_count": 10,
   "metadata": {},
   "outputs": [],
   "source": [
    "button = driver.find_element(By.ID, 'scroll-load-more')\n",
    "delay = 5\n",
    "for i in range(num_clicks):       \n",
    "    try:\n",
    "        # And press the button\n",
    "        button.click()\n",
    "        \n",
    "        time.sleep(delay)\n",
    "    except:\n",
    "        print('Carga completada')\n",
    "        elems = driver.find_elements(By.CLASS_NAME, 'quote_link.js-card')\n",
    "        print(str((len(elems) - 2) / 2) + ' bulos cargados')"
   ]
  },
  {
   "cell_type": "code",
   "execution_count": 11,
   "metadata": {},
   "outputs": [
    {
     "data": {
      "text/plain": [
       "1641.0"
      ]
     },
     "execution_count": 11,
     "metadata": {},
     "output_type": "execute_result"
    }
   ],
   "source": [
    "elems = driver.find_elements(By.CLASS_NAME, 'quote_link.js-card')\n",
    "(len(elems) - 2) / 2"
   ]
  },
  {
   "cell_type": "code",
   "execution_count": 12,
   "metadata": {},
   "outputs": [],
   "source": [
    "bulos = {}"
   ]
  },
  {
   "cell_type": "code",
   "execution_count": 29,
   "metadata": {},
   "outputs": [],
   "source": [
    "import urllib\n",
    "from bs4 import BeautifulSoup\n",
    "import requests\n",
    "import numpy\n",
    "import os\n",
    "import re\n",
    "from lxml.html.clean import clean_html\n",
    "import datetime\n",
    "from unicodedata import normalize\n",
    "import unidecode "
   ]
  },
  {
   "cell_type": "code",
   "execution_count": 27,
   "metadata": {},
   "outputs": [
    {
     "name": "stdout",
     "output_type": "stream",
     "text": [
      "Collecting Unidecode\n",
      "  Downloading Unidecode-1.3.2-py3-none-any.whl (235 kB)\n",
      "Installing collected packages: Unidecode\n",
      "Successfully installed Unidecode-1.3.2\n",
      "Note: you may need to restart the kernel to use updated packages.\n"
     ]
    }
   ],
   "source": [
    "pip install Unidecode"
   ]
  },
  {
   "cell_type": "code",
   "execution_count": 34,
   "metadata": {},
   "outputs": [
    {
     "name": "stdout",
     "output_type": "stream",
     "text": [
      "No se ha podido obtener la informacion de la noticia 2268\n"
     ]
    }
   ],
   "source": [
    "cont = 0\n",
    "for i in range(2, len(elems), 2):\n",
    "    \n",
    "    try:\n",
    "        title = elems[i].text\n",
    "        link = elems[i].get_attribute('href')\n",
    "        \n",
    "        html = requests.get(link, allow_redirects=False).text\n",
    "        soup = BeautifulSoup(html, 'html.parser')\n",
    "        \n",
    "         # Obtener la fecha de la noticia\n",
    "        inicio = len(link) - 9\n",
    "        fin = len(link) -1\n",
    "        date = link[inicio: fin]\n",
    "        formated_date =  datetime.datetime.strptime(date, '%Y%m%d').strftime('%Y/%m/%d')\n",
    "        \n",
    "        words = dict()\n",
    "        t = unidecode.unidecode(title)\n",
    "        title_list = re.sub(r'[^\\w\\s]', '', t.lower()).split(\" \")\n",
    "        \n",
    "        for w in title_list:\n",
    "            if w in words:\n",
    "                words[w] += 1\n",
    "            else:\n",
    "                words[w] = 1\n",
    "                \n",
    "        new_text = soup.find('div',attrs={'class' : \"o-section__row c-article__content\"})    \n",
    "        for text in new_text('p'):\n",
    "            s= unidecode.unidecode(text.get_text())\n",
    "           \n",
    "            for w in re.sub(r'[^\\w\\s]', '', s.lower().replace(u'\\xa0', u' ').replace(u'\\n', u' ')).split(\" \"):\n",
    "                if w in words:    \n",
    "                    words[w] += 1\n",
    "                else:\n",
    "                    words[w] = 1\n",
    "        bulos[cont] = {\"titulo\" : title, \"link\" : link, \"date\" : formated_date, \"words_count\" : words, \"date\" : formated_date}\n",
    "        cont += 1\n",
    "        \n",
    "    except:\n",
    "        print(\"No se ha podido obtener la informacion de la noticia\", i)"
   ]
  },
  {
   "cell_type": "code",
   "execution_count": 2,
   "metadata": {},
   "outputs": [],
   "source": [
    " # bulos"
   ]
  },
  {
   "cell_type": "code",
   "execution_count": 36,
   "metadata": {},
   "outputs": [
    {
     "data": {
      "text/plain": [
       "1640"
      ]
     },
     "execution_count": 36,
     "metadata": {},
     "output_type": "execute_result"
    }
   ],
   "source": [
    "len(bulos)"
   ]
  },
  {
   "cell_type": "code",
   "execution_count": 37,
   "metadata": {},
   "outputs": [],
   "source": [
    "with open('fakenewsNewtral.json', 'w') as fp:\n",
    "    json.dump(bulos, fp)"
   ]
  },
  {
   "cell_type": "code",
   "execution_count": null,
   "metadata": {},
   "outputs": [],
   "source": []
  }
 ],
 "metadata": {
  "kernelspec": {
   "display_name": "Python 3",
   "language": "python",
   "name": "python3"
  },
  "language_info": {
   "codemirror_mode": {
    "name": "ipython",
    "version": 3
   },
   "file_extension": ".py",
   "mimetype": "text/x-python",
   "name": "python",
   "nbconvert_exporter": "python",
   "pygments_lexer": "ipython3",
   "version": "3.8.5"
  }
 },
 "nbformat": 4,
 "nbformat_minor": 5
}
