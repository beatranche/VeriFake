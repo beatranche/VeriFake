{
 "cells": [
  {
   "cell_type": "markdown",
   "metadata": {},
   "source": [
    "### Notebook para Ejecutar el Scraping de Noticias Falsas\n",
    "#### Este notebook se utiliza para ejecutar el proceso de scraping en la base de datos de noticias falsas en español."
   ]
  },
  {
   "cell_type": "code",
   "execution_count": 1,
   "metadata": {},
   "outputs": [],
   "source": [
    "import pandas as pd\n",
    "from datetime import datetime\n",
    "import os\n",
    "from scraper import main "
   ]
  },
  {
   "cell_type": "markdown",
   "metadata": {},
   "source": [
    "### Ejecutar la función de scraping y guardar los datos\n",
    "#### Cambia el número de páginas y de trabajadores según sea necesario."
   ]
  },
  {
   "cell_type": "code",
   "execution_count": 2,
   "metadata": {},
   "outputs": [
    {
     "name": "stdout",
     "output_type": "stream",
     "text": [
      "Error on page 2: Message: \n",
      "Stacktrace:\n",
      "\tGetHandleVerifier [0x00007FF74E183AB5+28005]\n",
      "\t(No symbol) [0x00007FF74E0E83B0]\n",
      "\t(No symbol) [0x00007FF74DF8580A]\n",
      "\t(No symbol) [0x00007FF74DFD5A3E]\n",
      "\t(No symbol) [0x00007FF74DFD5D2C]\n",
      "\t(No symbol) [0x00007FF74E01EA97]\n",
      "\t(No symbol) [0x00007FF74DFFBA7F]\n",
      "\t(No symbol) [0x00007FF74E01B8B3]\n",
      "\t(No symbol) [0x00007FF74DFFB7E3]\n",
      "\t(No symbol) [0x00007FF74DFC75C8]\n",
      "\t(No symbol) [0x00007FF74DFC8731]\n",
      "\tGetHandleVerifier [0x00007FF74E47643D+3118829]\n",
      "\tGetHandleVerifier [0x00007FF74E4C6C90+3448640]\n",
      "\tGetHandleVerifier [0x00007FF74E4BCF0D+3408317]\n",
      "\tGetHandleVerifier [0x00007FF74E24A40B+841403]\n",
      "\t(No symbol) [0x00007FF74E0F340F]\n",
      "\t(No symbol) [0x00007FF74E0EF484]\n",
      "\t(No symbol) [0x00007FF74E0EF61D]\n",
      "\t(No symbol) [0x00007FF74E0DEB79]\n",
      "\tBaseThreadInitThunk [0x00007FFEA1F1DBE7+23]\n",
      "\tRtlUserThreadStart [0x00007FFEA3205A4C+44]\n",
      "\n",
      "Error on page 1: Message: \n",
      "Stacktrace:\n",
      "\tGetHandleVerifier [0x00007FF74E183AB5+28005]\n",
      "\t(No symbol) [0x00007FF74E0E83B0]\n",
      "\t(No symbol) [0x00007FF74DF8580A]\n",
      "\t(No symbol) [0x00007FF74DFD5A3E]\n",
      "\t(No symbol) [0x00007FF74DFD5D2C]\n",
      "\t(No symbol) [0x00007FF74E01EA97]\n",
      "\t(No symbol) [0x00007FF74DFFBA7F]\n",
      "\t(No symbol) [0x00007FF74E01B8B3]\n",
      "\t(No symbol) [0x00007FF74DFFB7E3]\n",
      "\t(No symbol) [0x00007FF74DFC75C8]\n",
      "\t(No symbol) [0x00007FF74DFC8731]\n",
      "\tGetHandleVerifier [0x00007FF74E47643D+3118829]\n",
      "\tGetHandleVerifier [0x00007FF74E4C6C90+3448640]\n",
      "\tGetHandleVerifier [0x00007FF74E4BCF0D+3408317]\n",
      "\tGetHandleVerifier [0x00007FF74E24A40B+841403]\n",
      "\t(No symbol) [0x00007FF74E0F340F]\n",
      "\t(No symbol) [0x00007FF74E0EF484]\n",
      "\t(No symbol) [0x00007FF74E0EF61D]\n",
      "\t(No symbol) [0x00007FF74E0DEB79]\n",
      "\tBaseThreadInitThunk [0x00007FFEA1F1DBE7+23]\n",
      "\tRtlUserThreadStart [0x00007FFEA3205A4C+44]\n",
      "\n"
     ]
    }
   ],
   "source": [
    "if __name__ == \"__main__\":\n",
    "    # Ejecutar el scraping\n",
    "    scraped_data = main(3, 3)  # Primer número: páginas, segundo: trabajadores\n",
    "    df_scraped = pd.DataFrame(scraped_data)"
   ]
  },
  {
   "cell_type": "markdown",
   "metadata": {},
   "source": [
    "#### Guardar los resultados en un archivo CSV único para evitar sobrescritura"
   ]
  },
  {
   "cell_type": "code",
   "execution_count": 3,
   "metadata": {},
   "outputs": [
    {
     "name": "stdout",
     "output_type": "stream",
     "text": [
      "   Index                                           Headline  \\\n",
      "0      0  “En el AIFA hay más ratas que vuelos”, afirmau...   \n",
      "1      0  Afirmaciones similares circulan en Twitter (1,...   \n",
      "2      0  El Aeropuerto Internacional Felipe Ángeles (AI...   \n",
      "3      0  Sin embargo, el Felipe Ángeles ha tardado en a...   \n",
      "4      0  “La gente sigue sin darse cuenta pero esto es ...   \n",
      "\n",
      "                                                Link  \n",
      "0                                 https://aifa.aero/  \n",
      "1  https://www.nytimes.com/es/2022/03/25/espanol/...  \n",
      "2                           https://www.aicm.com.mx/  \n",
      "3  https://www.aicm.com.mx/acercadelaicm/archivos...  \n",
      "4                                 https://aifa.aero/  \n",
      "Archivo guardado en: ..\\data\\scraped_news_20241024_064941.csv\n"
     ]
    }
   ],
   "source": [
    "# Crear una lista para almacenar datos combinados\n",
    "data_combined = []\n",
    "\n",
    "# Agrupar por 'Index' para combinar correctamente\n",
    "grouped = df_scraped.groupby('Index')\n",
    "\n",
    "# Iterar sobre cada grupo\n",
    "for name, group in grouped:\n",
    "    headlines = group['Headline'].dropna().tolist()  # Eliminar NaNs\n",
    "    links = group['Link'].dropna().tolist()  # Eliminar NaNs\n",
    "    \n",
    "    # Emparejar titulares con enlaces\n",
    "    for i in range(min(len(headlines), len(links))):\n",
    "        data_combined.append({\n",
    "            'Index': name,\n",
    "            'Headline': headlines[i],\n",
    "            'Link': links[i]\n",
    "        })\n",
    "\n",
    "# Convertir la lista de datos combinados en un DataFrame\n",
    "df_combined = pd.DataFrame(data_combined)\n",
    "\n",
    "# Obtener la fecha y hora actual para crear un nombre único para el archivo CSV\n",
    "timestamp = datetime.now().strftime(\"%Y%m%d_%H%M%S\")\n",
    "file_name = f\"scraped_news_{timestamp}.csv\"\n",
    "\n",
    "# Guardar el archivo CSV en la carpeta data, una carpeta anterior a donde se ejecuta el script\n",
    "output_path = os.path.join('..', 'data', file_name)\n",
    "df_combined.to_csv(output_path, index=False)\n",
    "\n",
    "# Mostrar los primeros resultados\n",
    "print(df_combined.head())\n",
    "\n",
    "# Verificar que el archivo fue guardado correctamente\n",
    "print(f\"Archivo guardado en: {output_path}\")"
   ]
  }
 ],
 "metadata": {
  "kernelspec": {
   "display_name": "verifake_env",
   "language": "python",
   "name": "python3"
  },
  "language_info": {
   "codemirror_mode": {
    "name": "ipython",
    "version": 3
   },
   "file_extension": ".py",
   "mimetype": "text/x-python",
   "name": "python",
   "nbconvert_exporter": "python",
   "pygments_lexer": "ipython3",
   "version": "3.9.20"
  }
 },
 "nbformat": 4,
 "nbformat_minor": 2
}
